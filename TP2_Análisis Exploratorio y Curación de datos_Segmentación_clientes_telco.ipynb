{
  "cells": [
    {
      "cell_type": "markdown",
      "metadata": {
        "id": "qAJ5ggZqr7xi"
      },
      "source": [
        "# Mentoría DiploDatos 2025 - Segmentación Inteligente de Clientes en Telecomunicaciones\n"
      ]
    },
    {
      "cell_type": "markdown",
      "metadata": {
        "id": "UOS5Hmqqr4sD"
      },
      "source": [
        "### Introduccion"
      ]
    },
    {
      "cell_type": "markdown",
      "metadata": {},
      "source": [
        "El proyecto consiste en desarrollar un modelo de segmentación de clientes para una empresa del sector de telecomunicaciones, con el objetivo de identificar patrones de comportamiento y definir estrategias de acción personalizadas para cada grupo, generando así valor comercial y fortaleciendo la toma de decisiones de negocio.\n",
        "\n",
        "Este proyecto pone en evidencia el valor de la clusterización y el uso de modelos no supervisados como herramientas clave para conocer en profundidad las características de los clientes. A partir de los segmentos identificados, es posible proyectar acciones concretas orientadas a mejorar la fidelización, impulsar ventas cruzadas y desarrollar estrategias efectivas de retención.\n",
        "\n",
        "Es fundamental recordar que no todos los clientes son iguales, y que al aprovechar los datos de manera inteligente, podemos ofrecerles una experiencia más personalizada, relevante y satisfactoria."
      ]
    },
    {
      "cell_type": "markdown",
      "metadata": {
        "id": "aZz1jRdSsNaN"
      },
      "source": [
        "### Inicializacion del entorno"
      ]
    },
    {
      "cell_type": "code",
      "execution_count": 1,
      "metadata": {},
      "outputs": [
        {
          "name": "stdout",
          "output_type": "stream",
          "text": [
            "Requirement already satisfied: pandas in c:\\phyton\\lib\\site-packages (2.2.3)\n",
            "Requirement already satisfied: numpy>=1.26.0 in c:\\phyton\\lib\\site-packages (from pandas) (2.1.2)\n",
            "Requirement already satisfied: python-dateutil>=2.8.2 in c:\\phyton\\lib\\site-packages (from pandas) (2.9.0.post0)\n",
            "Requirement already satisfied: pytz>=2020.1 in c:\\phyton\\lib\\site-packages (from pandas) (2024.2)\n",
            "Requirement already satisfied: tzdata>=2022.7 in c:\\phyton\\lib\\site-packages (from pandas) (2024.2)\n",
            "Requirement already satisfied: six>=1.5 in c:\\phyton\\lib\\site-packages (from python-dateutil>=2.8.2->pandas) (1.16.0)\n"
          ]
        },
        {
          "name": "stderr",
          "output_type": "stream",
          "text": [
            "\n",
            "[notice] A new release of pip is available: 24.0 -> 25.1.1\n",
            "[notice] To update, run: python.exe -m pip install --upgrade pip\n"
          ]
        }
      ],
      "source": [
        "!pip install pandas "
      ]
    },
    {
      "cell_type": "code",
      "execution_count": 2,
      "metadata": {},
      "outputs": [
        {
          "name": "stdout",
          "output_type": "stream",
          "text": [
            "Requirement already satisfied: plotly in c:\\phyton\\lib\\site-packages (5.24.1)\n",
            "Requirement already satisfied: tenacity>=6.2.0 in c:\\phyton\\lib\\site-packages (from plotly) (9.0.0)\n",
            "Requirement already satisfied: packaging in c:\\phyton\\lib\\site-packages (from plotly) (24.1)\n"
          ]
        },
        {
          "name": "stderr",
          "output_type": "stream",
          "text": [
            "\n",
            "[notice] A new release of pip is available: 24.0 -> 25.1.1\n",
            "[notice] To update, run: python.exe -m pip install --upgrade pip\n"
          ]
        }
      ],
      "source": [
        "!pip install plotly"
      ]
    },
    {
      "cell_type": "code",
      "execution_count": 3,
      "metadata": {},
      "outputs": [
        {
          "name": "stdout",
          "output_type": "stream",
          "text": [
            "Requirement already satisfied: matplotlib in c:\\phyton\\lib\\site-packages (3.9.2)\n",
            "Requirement already satisfied: contourpy>=1.0.1 in c:\\phyton\\lib\\site-packages (from matplotlib) (1.3.0)\n",
            "Requirement already satisfied: cycler>=0.10 in c:\\phyton\\lib\\site-packages (from matplotlib) (0.12.1)\n",
            "Requirement already satisfied: fonttools>=4.22.0 in c:\\phyton\\lib\\site-packages (from matplotlib) (4.54.1)\n",
            "Requirement already satisfied: kiwisolver>=1.3.1 in c:\\phyton\\lib\\site-packages (from matplotlib) (1.4.7)\n",
            "Requirement already satisfied: numpy>=1.23 in c:\\phyton\\lib\\site-packages (from matplotlib) (2.1.2)\n",
            "Requirement already satisfied: packaging>=20.0 in c:\\phyton\\lib\\site-packages (from matplotlib) (24.1)\n",
            "Requirement already satisfied: pillow>=8 in c:\\phyton\\lib\\site-packages (from matplotlib) (10.4.0)\n",
            "Requirement already satisfied: pyparsing>=2.3.1 in c:\\phyton\\lib\\site-packages (from matplotlib) (3.2.0)\n",
            "Requirement already satisfied: python-dateutil>=2.7 in c:\\phyton\\lib\\site-packages (from matplotlib) (2.9.0.post0)\n",
            "Requirement already satisfied: six>=1.5 in c:\\phyton\\lib\\site-packages (from python-dateutil>=2.7->matplotlib) (1.16.0)\n"
          ]
        },
        {
          "name": "stderr",
          "output_type": "stream",
          "text": [
            "\n",
            "[notice] A new release of pip is available: 24.0 -> 25.1.1\n",
            "[notice] To update, run: python.exe -m pip install --upgrade pip\n"
          ]
        }
      ],
      "source": [
        "!pip install matplotlib"
      ]
    },
    {
      "cell_type": "code",
      "execution_count": 4,
      "metadata": {},
      "outputs": [
        {
          "name": "stdout",
          "output_type": "stream",
          "text": [
            "Requirement already satisfied: seaborn in c:\\phyton\\lib\\site-packages (0.13.2)\n",
            "Requirement already satisfied: numpy!=1.24.0,>=1.20 in c:\\phyton\\lib\\site-packages (from seaborn) (2.1.2)\n",
            "Requirement already satisfied: pandas>=1.2 in c:\\phyton\\lib\\site-packages (from seaborn) (2.2.3)\n",
            "Requirement already satisfied: matplotlib!=3.6.1,>=3.4 in c:\\phyton\\lib\\site-packages (from seaborn) (3.9.2)\n",
            "Requirement already satisfied: contourpy>=1.0.1 in c:\\phyton\\lib\\site-packages (from matplotlib!=3.6.1,>=3.4->seaborn) (1.3.0)\n",
            "Requirement already satisfied: cycler>=0.10 in c:\\phyton\\lib\\site-packages (from matplotlib!=3.6.1,>=3.4->seaborn) (0.12.1)\n",
            "Requirement already satisfied: fonttools>=4.22.0 in c:\\phyton\\lib\\site-packages (from matplotlib!=3.6.1,>=3.4->seaborn) (4.54.1)\n",
            "Requirement already satisfied: kiwisolver>=1.3.1 in c:\\phyton\\lib\\site-packages (from matplotlib!=3.6.1,>=3.4->seaborn) (1.4.7)\n",
            "Requirement already satisfied: packaging>=20.0 in c:\\phyton\\lib\\site-packages (from matplotlib!=3.6.1,>=3.4->seaborn) (24.1)\n",
            "Requirement already satisfied: pillow>=8 in c:\\phyton\\lib\\site-packages (from matplotlib!=3.6.1,>=3.4->seaborn) (10.4.0)\n",
            "Requirement already satisfied: pyparsing>=2.3.1 in c:\\phyton\\lib\\site-packages (from matplotlib!=3.6.1,>=3.4->seaborn) (3.2.0)\n",
            "Requirement already satisfied: python-dateutil>=2.7 in c:\\phyton\\lib\\site-packages (from matplotlib!=3.6.1,>=3.4->seaborn) (2.9.0.post0)\n",
            "Requirement already satisfied: pytz>=2020.1 in c:\\phyton\\lib\\site-packages (from pandas>=1.2->seaborn) (2024.2)\n",
            "Requirement already satisfied: tzdata>=2022.7 in c:\\phyton\\lib\\site-packages (from pandas>=1.2->seaborn) (2024.2)\n",
            "Requirement already satisfied: six>=1.5 in c:\\phyton\\lib\\site-packages (from python-dateutil>=2.7->matplotlib!=3.6.1,>=3.4->seaborn) (1.16.0)\n"
          ]
        },
        {
          "name": "stderr",
          "output_type": "stream",
          "text": [
            "\n",
            "[notice] A new release of pip is available: 24.0 -> 25.1.1\n",
            "[notice] To update, run: python.exe -m pip install --upgrade pip\n"
          ]
        }
      ],
      "source": [
        "!pip install seaborn"
      ]
    },
    {
      "cell_type": "code",
      "execution_count": 5,
      "metadata": {},
      "outputs": [
        {
          "name": "stdout",
          "output_type": "stream",
          "text": [
            "Requirement already satisfied: scikit-learn in c:\\phyton\\lib\\site-packages (1.5.2)\n",
            "Requirement already satisfied: numpy>=1.19.5 in c:\\phyton\\lib\\site-packages (from scikit-learn) (2.1.2)\n",
            "Requirement already satisfied: scipy>=1.6.0 in c:\\phyton\\lib\\site-packages (from scikit-learn) (1.14.1)\n",
            "Requirement already satisfied: joblib>=1.2.0 in c:\\phyton\\lib\\site-packages (from scikit-learn) (1.4.2)\n",
            "Requirement already satisfied: threadpoolctl>=3.1.0 in c:\\phyton\\lib\\site-packages (from scikit-learn) (3.5.0)\n"
          ]
        },
        {
          "name": "stderr",
          "output_type": "stream",
          "text": [
            "\n",
            "[notice] A new release of pip is available: 24.0 -> 25.1.1\n",
            "[notice] To update, run: python.exe -m pip install --upgrade pip\n"
          ]
        }
      ],
      "source": [
        "!pip install scikit-learn"
      ]
    },
    {
      "cell_type": "code",
      "execution_count": 6,
      "metadata": {},
      "outputs": [
        {
          "name": "stdout",
          "output_type": "stream",
          "text": [
            "Requirement already satisfied: scipy in c:\\phyton\\lib\\site-packages (1.14.1)\n",
            "Requirement already satisfied: numpy<2.3,>=1.23.5 in c:\\phyton\\lib\\site-packages (from scipy) (2.1.2)\n"
          ]
        },
        {
          "name": "stderr",
          "output_type": "stream",
          "text": [
            "\n",
            "[notice] A new release of pip is available: 24.0 -> 25.1.1\n",
            "[notice] To update, run: python.exe -m pip install --upgrade pip\n"
          ]
        }
      ],
      "source": [
        "!pip install scipy"
      ]
    },
    {
      "cell_type": "code",
      "execution_count": 7,
      "metadata": {},
      "outputs": [
        {
          "name": "stdout",
          "output_type": "stream",
          "text": [
            "Requirement already satisfied: sqlalchemy in c:\\phyton\\lib\\site-packages (2.0.35)\n",
            "Requirement already satisfied: typing-extensions>=4.6.0 in c:\\phyton\\lib\\site-packages (from sqlalchemy) (4.12.2)\n",
            "Requirement already satisfied: greenlet!=0.4.17 in c:\\phyton\\lib\\site-packages (from sqlalchemy) (3.1.1)\n"
          ]
        },
        {
          "name": "stderr",
          "output_type": "stream",
          "text": [
            "\n",
            "[notice] A new release of pip is available: 24.0 -> 25.1.1\n",
            "[notice] To update, run: python.exe -m pip install --upgrade pip\n"
          ]
        }
      ],
      "source": [
        "!pip install sqlalchemy"
      ]
    },
    {
      "cell_type": "code",
      "execution_count": 8,
      "metadata": {},
      "outputs": [
        {
          "name": "stdout",
          "output_type": "stream",
          "text": [
            "Requirement already satisfied: cx_Oracle in c:\\phyton\\lib\\site-packages (8.3.0)\n"
          ]
        },
        {
          "name": "stderr",
          "output_type": "stream",
          "text": [
            "\n",
            "[notice] A new release of pip is available: 24.0 -> 25.1.1\n",
            "[notice] To update, run: python.exe -m pip install --upgrade pip\n"
          ]
        }
      ],
      "source": [
        "!pip install cx_Oracle"
      ]
    },
    {
      "cell_type": "code",
      "execution_count": 9,
      "metadata": {
        "colab": {
          "base_uri": "https://localhost:8080/",
          "height": 17
        },
        "id": "KgS-LipYsYNv",
        "outputId": "075ad9ee-2d0d-48c0-c5dc-e438c3675ee5"
      },
      "outputs": [
        {
          "data": {
            "text/html": [
              "        <script type=\"text/javascript\">\n",
              "        window.PlotlyConfig = {MathJaxConfig: 'local'};\n",
              "        if (window.MathJax && window.MathJax.Hub && window.MathJax.Hub.Config) {window.MathJax.Hub.Config({SVG: {font: \"STIX-Web\"}});}\n",
              "        if (typeof require !== 'undefined') {\n",
              "        require.undef(\"plotly\");\n",
              "        requirejs.config({\n",
              "            paths: {\n",
              "                'plotly': ['https://cdn.plot.ly/plotly-2.35.2.min']\n",
              "            }\n",
              "        });\n",
              "        require(['plotly'], function(Plotly) {\n",
              "            window._Plotly = Plotly;\n",
              "        });\n",
              "        }\n",
              "        </script>\n",
              "        "
            ]
          },
          "metadata": {},
          "output_type": "display_data"
        }
      ],
      "source": [
        "# Importación de librerías\n",
        "import numpy as np\n",
        "import pandas as pd\n",
        "pd.set_option('display.max_columns', 100)\n",
        "pd.set_option('display.max_rows', 1000)\n",
        "\n",
        "import itertools\n",
        "import warnings\n",
        "warnings.filterwarnings(\"ignore\")\n",
        "import io\n",
        "\n",
        "# Para visualización\n",
        "import plotly.graph_objs as go\n",
        "from plotly.offline import init_notebook_mode, plot, iplot\n",
        "from plotly.figure_factory import create_table\n",
        "init_notebook_mode(connected=True)\n",
        "\n",
        "import matplotlib.pyplot as plt\n",
        "import seaborn as sns\n",
        "\n",
        "# Librerías de aprendizaje automático\n",
        "from sklearn.cluster import KMeans, MeanShift, DBSCAN \n",
        "from sklearn.metrics import silhouette_score, calinski_harabasz_score, davies_bouldin_score\n",
        "from sklearn.decomposition import PCA\n",
        "from sklearn.preprocessing import StandardScaler\n",
        "from sklearn.tree import DecisionTreeClassifier\n",
        "from sklearn.inspection import permutation_importance\n",
        "\n",
        "# Librerías estadísticas y matemáticas\n",
        "from scipy.stats import t\n",
        "from scipy import stats\n",
        "from math import pi"
      ]
    },
    {
      "cell_type": "code",
      "execution_count": 10,
      "metadata": {},
      "outputs": [
        {
          "name": "stdout",
          "output_type": "stream",
          "text": [
            "                  RAZON_SOCIAL  REGION_OTROS  REGION_CF  REGION_BSAS  \\\n",
            "0              AVANZ TRUCK SRL             1          0            0   \n",
            "1             COOLMEALS S.A.S.             0          0            0   \n",
            "2             GRUPO QUEST S.A.             0          0            0   \n",
            "3  3NTROPY TECHNOLOGIES S.R.L.             0          1            0   \n",
            "4                    48M2 S.A.             0          1            0   \n",
            "\n",
            "   REGION_DESCONOCIDO  REGION_CBA  PROD_DATOS_RPV  PROD_INTER_DEDICADO  \\\n",
            "0                   0           0               0                    1   \n",
            "1                   0           1               0                    1   \n",
            "2                   0           1               1                    1   \n",
            "3                   0           0               0                    1   \n",
            "4                   0           0               0                    1   \n",
            "\n",
            "   PROD_DATOS_ENLACE  PROD_DATOS_LAN_TO_LAN  PROD_SD_WAN  MERC_OTROS  \\\n",
            "0                  0                      0            0           0   \n",
            "1                  0                      0            0           0   \n",
            "2                  0                      0            0           0   \n",
            "3                  0                      0            0           0   \n",
            "4                  0                      0            0           0   \n",
            "\n",
            "   MERC_CORPORATIVO  MERC_EMPRESAS  MERC_GRANDES_CLIENTES  MERC_PYMES  \\\n",
            "0                 0              1                      0           0   \n",
            "1                 0              1                      0           0   \n",
            "2                 0              1                      0           0   \n",
            "3                 0              0                      0           1   \n",
            "4                 0              1                      0           0   \n",
            "\n",
            "   CANT_PRODUCTOS  CANT_ENLACES FACTURACION_ARS  DURACION_CLIENTE_DIAS  \\\n",
            "0               1             1          268800                    574   \n",
            "1               1             1          336000                    670   \n",
            "2               2             2          576000                    780   \n",
            "3               1             1          252000                    166   \n",
            "4               1             1          882000                   1518   \n",
            "\n",
            "   INCIDENTES     TMR  \n",
            "0           1    1,56  \n",
            "1           4    1,45  \n",
            "2           8    6,38  \n",
            "3           0       0  \n",
            "4           3  257,09  \n"
          ]
        }
      ],
      "source": [
        "#Carga de datos\n",
        "df = pd.read_csv(\"Segmentacion_Clientes.csv\", sep=\";\")\n",
        "print(df.head())"
      ]
    },
    {
      "cell_type": "markdown",
      "metadata": {},
      "source": [
        "### Detalle del dataset por feature:\n",
        "- RAZON_SOCIAL: Denominación del Cliente Corporativo\n",
        "- REGION_CF: Si el cliente está ubicado en Capital Federal es un 1, caso contrario 0.\n",
        "- REGION_BSAS: Si el cliente está ubicado en Bs. As es un 1, caso contrario 0.\n",
        "- REGION_CBA: Si el cliente está ubicado en Córdoba es un 1, caso contrario 0.\n",
        "- REGION_DESCONOCIDO: Clientes cuyo campo de Ubicación está vacío. Se arma esta variable para que no haya nulos.\n",
        "- REGION_OTROS: Incluye las localidades que no están en las demas regiones (por ejemplo clientes localizados en Misiones tendrán un 1 en este campo)\n",
        "- PROD_DATOS_RPV: Clientes que tienen contratado el servicio de RPV(Red Privada Virtual). Esta es una solución de telecomunicaciones que permite interconectar distintas sedes de una empresa a través de una red privada y segura, utilizando la infraestructura de un proveedor (como una operadora de telecomunicaciones).\n",
        "- PROD_INTER_DEDICADO: Clientes que tienen contratado el servicio de Internet dedicado.Este consiste en en brindar una conexión exclusiva y simétrica a internet con ancho de banda garantizado para una empresa. \n",
        "- PROD_DATOS_ENLACE: Clientes que tienen contratado el servicio de enlace.Enlace es una conexión punto a punto que une físicamente dos ubicaciones para transmitir datos directamente.\n",
        "- PROD_DATOS_LAN_TO_LAN:Clientes que tienen contratado el servicio de lan to lan. Esto permite interconectar dos o más redes locales (LAN) de distintas sedes mediante enlaces privados y seguros.\n",
        "- PROD_SD_WAN:Clientes que tienen contratado el servicio de SD WAN. Esta es una tecnología que gestiona de forma inteligente múltiples conexiones de red (como MPLS, internet o 4G) para optimizar el rendimiento y la seguridad del tráfico entre sedes.\n",
        "- MERC_CORPORATIVO: Indica con 1 si el cliente es del segmento corporativo y 0 caso contrario.\n",
        "- MERC_EMPRESAS: Indica con 1 si el cliente es del segmento Empresas y 0 caso contrario.\n",
        "- MERC_GRANDES_CLIENTES: Indica con 1 si el cliente es del segmento Grandes Clientes y 0 caso contrario.\n",
        "- MERC_PYMES: Indica con 1 si el cliente es del segmento Pymes y 0 caso contrario.\n",
        "- MERC_OTROS: Indica con 1 si el cliente es de un segmento diferente a los anteriores y 0 caso contrario.\n",
        "- CANT_PRODUCTOS: Contabiliza la cantidad de productos de cada cliente.\n",
        "- CANT_ENLACES: Contabiliza la cantidad de enlaces de cada cliente. Los clientes pueden tener mas de un enlace y más de un producto.\n",
        "- FACTURACION_ARS: Indica lo que paga en pesos el cliente de acuerdo a la cantidad de enlaces\n",
        "- DURACION_CLIENTE_DIAS: Indica la cantidad de días transcurridos desde que el cliente adquirió un producto. \n",
        "- INCIDENTES: Contabiliza la cantidad de reclamos del cliente debido a incidentes en un enlace.\n",
        "- TMR: El Tiempo medio de respuesta indica cuantas horas pasaron desde que se reportó el incidente hasta que se resuelve."
      ]
    },
    {
      "cell_type": "markdown",
      "metadata": {},
      "source": [
        "#### **Trabajo practico 2**: Analisis Exploratorio y Curación de datos\n",
        "En esta etapa acondicionamos el dataset para alimentar el modelo:\n",
        "\n",
        "##### Cuestiones a analizar y responder:\n",
        "1. **Valores faltantes (Nan, NA o None)**: ¿Existen valores faltantes en el conjunto de datos? ¿Porqué piensan que ocurrió ésto?¿Deberíamos eliminar las filas/columnas o imputar valores?\n",
        "\n",
        "2. **Outliers**: ¿Existen valores atipicos? ¿Que tecnica utilizarán para la deteccion y manejo de estos valores?\n",
        "\n",
        "3. **Tratamiento de features**: Divida las variables en numericas y categoricas. ¿Es necesario codificar variables categoricas en numericas?\n",
        "\n",
        "4. **Escalado y Normalización**: ¿Necesitamos escalar o normalizar las variables numéricas? ¿Qué técnicas de escalado o normalización deberíamos usar?\n",
        "\n",
        "5. **Feature engineering**:¿Existe relacion entre las variables?¿Se elimina alguna variable? ¿Creen necesario reducir las variables a través de PCA?Justificar las ventajas y desventajas de aplicarlo"
      ]
    },
    {
      "cell_type": "code",
      "execution_count": 13,
      "metadata": {},
      "outputs": [],
      "source": [
        "#Considerar solo las columnas numéricas para escalar\n",
        "columnas = np.r_[1:22]  # Esto va desde el índice 1 hasta el 21 inclusive\n",
        "df_numeric = df.iloc[:, columnas]"
      ]
    },
    {
      "cell_type": "code",
      "execution_count": 15,
      "metadata": {},
      "outputs": [],
      "source": [
        "# Reemplazar ',' por '.' y convertir a float\n",
        "df_numeric = df_numeric.apply(lambda col: col.str.replace(',', '.', regex=False) if col.dtypes == 'object' else col)\n",
        "df_numeric = df_numeric.apply(pd.to_numeric, errors='coerce')"
      ]
    },
    {
      "cell_type": "code",
      "execution_count": 16,
      "metadata": {},
      "outputs": [],
      "source": [
        "# Estandarización de los datos\n",
        "std_scaler = StandardScaler()\n",
        "standard = std_scaler.fit_transform(df_numeric)\n",
        "df_escalado=pd.DataFrame(standard,columns=df_numeric.columns)"
      ]
    },
    {
      "cell_type": "code",
      "execution_count": 17,
      "metadata": {},
      "outputs": [
        {
          "name": "stdout",
          "output_type": "stream",
          "text": [
            "Varianza explicada por cada componente (estandarizado): [0.16386484 0.25245005 0.3250146  0.39388676 0.46078897 0.52178873\n",
            " 0.58258094 0.63665914 0.68828419 0.7378013  0.78515139 0.82986205\n",
            " 0.87061456 0.90785942 0.94315005 0.97229053 0.99074131 0.99973325\n",
            " 0.99996226 1.         1.        ]\n"
          ]
        }
      ],
      "source": [
        "pca = PCA()\n",
        "pca.fit(df_escalado)\n",
        "print(\"Varianza explicada por cada componente (estandarizado):\", pca.explained_variance_ratio_.cumsum())"
      ]
    },
    {
      "cell_type": "code",
      "execution_count": 18,
      "metadata": {},
      "outputs": [],
      "source": [
        "pca=PCA(n_components=13)\n",
        "# Transformar los datos y obtener las componentes principales\n",
        "projected_features_std = pca.fit_transform(df_escalado)\n",
        "\n",
        "# Crear un DataFrame con las dos primeras componentes principales\n",
        "df_escalado_pca = pd.DataFrame(projected_features_std)"
      ]
    },
    {
      "cell_type": "markdown",
      "metadata": {},
      "source": [
        "### Conclusiones y Observaciones"
      ]
    }
  ],
  "metadata": {
    "colab": {
      "provenance": [],
      "toc_visible": true
    },
    "kernelspec": {
      "display_name": "Python 3",
      "name": "python3"
    },
    "language_info": {
      "codemirror_mode": {
        "name": "ipython",
        "version": 3
      },
      "file_extension": ".py",
      "mimetype": "text/x-python",
      "name": "python",
      "nbconvert_exporter": "python",
      "pygments_lexer": "ipython3",
      "version": "3.12.1"
    }
  },
  "nbformat": 4,
  "nbformat_minor": 0
}
