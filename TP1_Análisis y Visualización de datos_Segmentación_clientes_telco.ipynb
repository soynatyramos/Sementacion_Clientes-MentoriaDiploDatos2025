{
  "cells": [
    {
      "cell_type": "markdown",
      "metadata": {
        "id": "qAJ5ggZqr7xi"
      },
      "source": [
        "# Mentoría DiploDatos 2025 - Segmentación Inteligente de Clientes en Telecomunicaciones\n"
      ]
    },
    {
      "cell_type": "markdown",
      "metadata": {
        "id": "UOS5Hmqqr4sD"
      },
      "source": [
        "### Introduccion"
      ]
    },
    {
      "cell_type": "markdown",
      "metadata": {},
      "source": [
        "El proyecto consiste en desarrollar un modelo de segmentación de clientes para una empresa del sector de telecomunicaciones, con el objetivo de identificar patrones de comportamiento y definir estrategias de acción personalizadas para cada grupo, generando así valor comercial y fortaleciendo la toma de decisiones de negocio.\n",
        "\n",
        "Este proyecto pone en evidencia el valor de la clusterización y el uso de modelos no supervisados como herramientas clave para conocer en profundidad las características de los clientes. A partir de los segmentos identificados, es posible proyectar acciones concretas orientadas a mejorar la fidelización, impulsar ventas cruzadas y desarrollar estrategias efectivas de retención.\n",
        "\n",
        "Es fundamental recordar que no todos los clientes son iguales, y que al aprovechar los datos de manera inteligente, podemos ofrecerles una experiencia más personalizada, relevante y satisfactoria."
      ]
    },
    {
      "cell_type": "markdown",
      "metadata": {
        "id": "aZz1jRdSsNaN"
      },
      "source": [
        "### Inicializacion del entorno"
      ]
    },
    {
      "cell_type": "code",
      "execution_count": 1,
      "metadata": {},
      "outputs": [
        {
          "name": "stdout",
          "output_type": "stream",
          "text": [
            "Requirement already satisfied: pandas in c:\\phyton\\lib\\site-packages (2.2.3)\n",
            "Requirement already satisfied: numpy>=1.26.0 in c:\\phyton\\lib\\site-packages (from pandas) (2.1.2)\n",
            "Requirement already satisfied: python-dateutil>=2.8.2 in c:\\phyton\\lib\\site-packages (from pandas) (2.9.0.post0)\n",
            "Requirement already satisfied: pytz>=2020.1 in c:\\phyton\\lib\\site-packages (from pandas) (2024.2)\n",
            "Requirement already satisfied: tzdata>=2022.7 in c:\\phyton\\lib\\site-packages (from pandas) (2024.2)\n",
            "Requirement already satisfied: six>=1.5 in c:\\phyton\\lib\\site-packages (from python-dateutil>=2.8.2->pandas) (1.16.0)\n"
          ]
        },
        {
          "name": "stderr",
          "output_type": "stream",
          "text": [
            "\n",
            "[notice] A new release of pip is available: 24.0 -> 25.1.1\n",
            "[notice] To update, run: python.exe -m pip install --upgrade pip\n"
          ]
        }
      ],
      "source": [
        "!pip install pandas "
      ]
    },
    {
      "cell_type": "code",
      "execution_count": 2,
      "metadata": {},
      "outputs": [
        {
          "name": "stdout",
          "output_type": "stream",
          "text": [
            "Requirement already satisfied: plotly in c:\\phyton\\lib\\site-packages (5.24.1)\n",
            "Requirement already satisfied: tenacity>=6.2.0 in c:\\phyton\\lib\\site-packages (from plotly) (9.0.0)\n",
            "Requirement already satisfied: packaging in c:\\phyton\\lib\\site-packages (from plotly) (24.1)\n"
          ]
        },
        {
          "name": "stderr",
          "output_type": "stream",
          "text": [
            "\n",
            "[notice] A new release of pip is available: 24.0 -> 25.1.1\n",
            "[notice] To update, run: python.exe -m pip install --upgrade pip\n"
          ]
        }
      ],
      "source": [
        "!pip install plotly"
      ]
    },
    {
      "cell_type": "code",
      "execution_count": 3,
      "metadata": {},
      "outputs": [
        {
          "name": "stderr",
          "output_type": "stream",
          "text": [
            "\n",
            "[notice] A new release of pip is available: 24.0 -> 25.1.1\n",
            "[notice] To update, run: python.exe -m pip install --upgrade pip\n"
          ]
        },
        {
          "name": "stdout",
          "output_type": "stream",
          "text": [
            "Requirement already satisfied: matplotlib in c:\\phyton\\lib\\site-packages (3.9.2)\n",
            "Requirement already satisfied: contourpy>=1.0.1 in c:\\phyton\\lib\\site-packages (from matplotlib) (1.3.0)\n",
            "Requirement already satisfied: cycler>=0.10 in c:\\phyton\\lib\\site-packages (from matplotlib) (0.12.1)\n",
            "Requirement already satisfied: fonttools>=4.22.0 in c:\\phyton\\lib\\site-packages (from matplotlib) (4.54.1)\n",
            "Requirement already satisfied: kiwisolver>=1.3.1 in c:\\phyton\\lib\\site-packages (from matplotlib) (1.4.7)\n",
            "Requirement already satisfied: numpy>=1.23 in c:\\phyton\\lib\\site-packages (from matplotlib) (2.1.2)\n",
            "Requirement already satisfied: packaging>=20.0 in c:\\phyton\\lib\\site-packages (from matplotlib) (24.1)\n",
            "Requirement already satisfied: pillow>=8 in c:\\phyton\\lib\\site-packages (from matplotlib) (10.4.0)\n",
            "Requirement already satisfied: pyparsing>=2.3.1 in c:\\phyton\\lib\\site-packages (from matplotlib) (3.2.0)\n",
            "Requirement already satisfied: python-dateutil>=2.7 in c:\\phyton\\lib\\site-packages (from matplotlib) (2.9.0.post0)\n",
            "Requirement already satisfied: six>=1.5 in c:\\phyton\\lib\\site-packages (from python-dateutil>=2.7->matplotlib) (1.16.0)\n"
          ]
        }
      ],
      "source": [
        "!pip install matplotlib"
      ]
    },
    {
      "cell_type": "code",
      "execution_count": 4,
      "metadata": {},
      "outputs": [
        {
          "name": "stdout",
          "output_type": "stream",
          "text": [
            "Requirement already satisfied: seaborn in c:\\phyton\\lib\\site-packages (0.13.2)\n",
            "Requirement already satisfied: numpy!=1.24.0,>=1.20 in c:\\phyton\\lib\\site-packages (from seaborn) (2.1.2)\n",
            "Requirement already satisfied: pandas>=1.2 in c:\\phyton\\lib\\site-packages (from seaborn) (2.2.3)\n",
            "Requirement already satisfied: matplotlib!=3.6.1,>=3.4 in c:\\phyton\\lib\\site-packages (from seaborn) (3.9.2)\n",
            "Requirement already satisfied: contourpy>=1.0.1 in c:\\phyton\\lib\\site-packages (from matplotlib!=3.6.1,>=3.4->seaborn) (1.3.0)\n",
            "Requirement already satisfied: cycler>=0.10 in c:\\phyton\\lib\\site-packages (from matplotlib!=3.6.1,>=3.4->seaborn) (0.12.1)\n",
            "Requirement already satisfied: fonttools>=4.22.0 in c:\\phyton\\lib\\site-packages (from matplotlib!=3.6.1,>=3.4->seaborn) (4.54.1)\n",
            "Requirement already satisfied: kiwisolver>=1.3.1 in c:\\phyton\\lib\\site-packages (from matplotlib!=3.6.1,>=3.4->seaborn) (1.4.7)\n",
            "Requirement already satisfied: packaging>=20.0 in c:\\phyton\\lib\\site-packages (from matplotlib!=3.6.1,>=3.4->seaborn) (24.1)\n",
            "Requirement already satisfied: pillow>=8 in c:\\phyton\\lib\\site-packages (from matplotlib!=3.6.1,>=3.4->seaborn) (10.4.0)\n",
            "Requirement already satisfied: pyparsing>=2.3.1 in c:\\phyton\\lib\\site-packages (from matplotlib!=3.6.1,>=3.4->seaborn) (3.2.0)\n",
            "Requirement already satisfied: python-dateutil>=2.7 in c:\\phyton\\lib\\site-packages (from matplotlib!=3.6.1,>=3.4->seaborn) (2.9.0.post0)\n",
            "Requirement already satisfied: pytz>=2020.1 in c:\\phyton\\lib\\site-packages (from pandas>=1.2->seaborn) (2024.2)\n",
            "Requirement already satisfied: tzdata>=2022.7 in c:\\phyton\\lib\\site-packages (from pandas>=1.2->seaborn) (2024.2)\n",
            "Requirement already satisfied: six>=1.5 in c:\\phyton\\lib\\site-packages (from python-dateutil>=2.7->matplotlib!=3.6.1,>=3.4->seaborn) (1.16.0)\n"
          ]
        },
        {
          "name": "stderr",
          "output_type": "stream",
          "text": [
            "\n",
            "[notice] A new release of pip is available: 24.0 -> 25.1.1\n",
            "[notice] To update, run: python.exe -m pip install --upgrade pip\n"
          ]
        }
      ],
      "source": [
        "!pip install seaborn"
      ]
    },
    {
      "cell_type": "code",
      "execution_count": 5,
      "metadata": {},
      "outputs": [
        {
          "name": "stdout",
          "output_type": "stream",
          "text": [
            "Requirement already satisfied: scikit-learn in c:\\phyton\\lib\\site-packages (1.5.2)\n",
            "Requirement already satisfied: numpy>=1.19.5 in c:\\phyton\\lib\\site-packages (from scikit-learn) (2.1.2)\n",
            "Requirement already satisfied: scipy>=1.6.0 in c:\\phyton\\lib\\site-packages (from scikit-learn) (1.14.1)\n",
            "Requirement already satisfied: joblib>=1.2.0 in c:\\phyton\\lib\\site-packages (from scikit-learn) (1.4.2)\n",
            "Requirement already satisfied: threadpoolctl>=3.1.0 in c:\\phyton\\lib\\site-packages (from scikit-learn) (3.5.0)\n"
          ]
        },
        {
          "name": "stderr",
          "output_type": "stream",
          "text": [
            "\n",
            "[notice] A new release of pip is available: 24.0 -> 25.1.1\n",
            "[notice] To update, run: python.exe -m pip install --upgrade pip\n"
          ]
        }
      ],
      "source": [
        "!pip install scikit-learn"
      ]
    },
    {
      "cell_type": "code",
      "execution_count": 6,
      "metadata": {},
      "outputs": [
        {
          "name": "stdout",
          "output_type": "stream",
          "text": [
            "Requirement already satisfied: scipy in c:\\phyton\\lib\\site-packages (1.14.1)\n",
            "Requirement already satisfied: numpy<2.3,>=1.23.5 in c:\\phyton\\lib\\site-packages (from scipy) (2.1.2)\n"
          ]
        },
        {
          "name": "stderr",
          "output_type": "stream",
          "text": [
            "\n",
            "[notice] A new release of pip is available: 24.0 -> 25.1.1\n",
            "[notice] To update, run: python.exe -m pip install --upgrade pip\n"
          ]
        }
      ],
      "source": [
        "!pip install scipy"
      ]
    },
    {
      "cell_type": "code",
      "execution_count": 7,
      "metadata": {},
      "outputs": [
        {
          "name": "stdout",
          "output_type": "stream",
          "text": [
            "Requirement already satisfied: sqlalchemy in c:\\phyton\\lib\\site-packages (2.0.35)\n",
            "Requirement already satisfied: typing-extensions>=4.6.0 in c:\\phyton\\lib\\site-packages (from sqlalchemy) (4.12.2)\n",
            "Requirement already satisfied: greenlet!=0.4.17 in c:\\phyton\\lib\\site-packages (from sqlalchemy) (3.1.1)\n"
          ]
        },
        {
          "name": "stderr",
          "output_type": "stream",
          "text": [
            "\n",
            "[notice] A new release of pip is available: 24.0 -> 25.1.1\n",
            "[notice] To update, run: python.exe -m pip install --upgrade pip\n"
          ]
        }
      ],
      "source": [
        "!pip install sqlalchemy"
      ]
    },
    {
      "cell_type": "code",
      "execution_count": 8,
      "metadata": {},
      "outputs": [
        {
          "name": "stdout",
          "output_type": "stream",
          "text": [
            "Requirement already satisfied: cx_Oracle in c:\\phyton\\lib\\site-packages (8.3.0)"
          ]
        },
        {
          "name": "stderr",
          "output_type": "stream",
          "text": [
            "\n",
            "[notice] A new release of pip is available: 24.0 -> 25.1.1\n",
            "[notice] To update, run: python.exe -m pip install --upgrade pip\n"
          ]
        },
        {
          "name": "stdout",
          "output_type": "stream",
          "text": [
            "\n"
          ]
        }
      ],
      "source": [
        "!pip install cx_Oracle"
      ]
    },
    {
      "cell_type": "code",
      "execution_count": null,
      "metadata": {
        "colab": {
          "base_uri": "https://localhost:8080/",
          "height": 17
        },
        "id": "KgS-LipYsYNv",
        "outputId": "075ad9ee-2d0d-48c0-c5dc-e438c3675ee5"
      },
      "outputs": [
        {
          "data": {
            "text/html": [
              "        <script type=\"text/javascript\">\n",
              "        window.PlotlyConfig = {MathJaxConfig: 'local'};\n",
              "        if (window.MathJax && window.MathJax.Hub && window.MathJax.Hub.Config) {window.MathJax.Hub.Config({SVG: {font: \"STIX-Web\"}});}\n",
              "        if (typeof require !== 'undefined') {\n",
              "        require.undef(\"plotly\");\n",
              "        requirejs.config({\n",
              "            paths: {\n",
              "                'plotly': ['https://cdn.plot.ly/plotly-2.35.2.min']\n",
              "            }\n",
              "        });\n",
              "        require(['plotly'], function(Plotly) {\n",
              "            window._Plotly = Plotly;\n",
              "        });\n",
              "        }\n",
              "        </script>\n",
              "        "
            ]
          },
          "metadata": {},
          "output_type": "display_data"
        }
      ],
      "source": [
        "# Importación de librerías\n",
        "import numpy as np\n",
        "import pandas as pd\n",
        "pd.set_option('display.max_columns', 100)\n",
        "pd.set_option('display.max_rows', 1000)\n",
        "\n",
        "import itertools\n",
        "import warnings\n",
        "warnings.filterwarnings(\"ignore\")\n",
        "import io\n",
        "\n",
        "# Para visualización\n",
        "import plotly.graph_objs as go\n",
        "from plotly.offline import init_notebook_mode, plot, iplot\n",
        "from plotly.figure_factory import create_table\n",
        "init_notebook_mode(connected=True)\n",
        "\n",
        "import matplotlib.pyplot as plt\n",
        "import seaborn as sns\n",
        "\n",
        "# Librerías de aprendizaje automático\n",
        "from sklearn.cluster import KMeans, MeanShift, DBSCAN \n",
        "from sklearn.metrics import silhouette_score, calinski_harabasz_score, davies_bouldin_score\n",
        "from sklearn.decomposition import PCA\n",
        "from sklearn.preprocessing import StandardScaler\n",
        "from sklearn.tree import DecisionTreeClassifier\n",
        "from sklearn.inspection import permutation_importance\n",
        "\n",
        "# Librerías estadísticas y matemáticas\n",
        "from scipy.stats import t\n",
        "from scipy import stats\n",
        "from math import pi"
      ]
    },
    {
      "cell_type": "code",
      "execution_count": 10,
      "metadata": {},
      "outputs": [
        {
          "name": "stdout",
          "output_type": "stream",
          "text": [
            "                  RAZON_SOCIAL  REGION_OTROS  REGION_CF  REGION_BSAS  \\\n",
            "0              AVANZ TRUCK SRL             1          0            0   \n",
            "1             COOLMEALS S.A.S.             0          0            0   \n",
            "2             GRUPO QUEST S.A.             0          0            0   \n",
            "3  3NTROPY TECHNOLOGIES S.R.L.             0          1            0   \n",
            "4                    48M2 S.A.             0          1            0   \n",
            "\n",
            "   REGION_DESCONOCIDO  REGION_CBA  PROD_DATOS_RPV  PROD_INTER_DEDICADO  \\\n",
            "0                   0           0               0                    1   \n",
            "1                   0           1               0                    1   \n",
            "2                   0           1               1                    1   \n",
            "3                   0           0               0                    1   \n",
            "4                   0           0               0                    1   \n",
            "\n",
            "   PROD_DATOS_ENLACE  PROD_DATOS_LAN_TO_LAN  PROD_SD_WAN  MERC_OTROS  \\\n",
            "0                  0                      0            0           0   \n",
            "1                  0                      0            0           0   \n",
            "2                  0                      0            0           0   \n",
            "3                  0                      0            0           0   \n",
            "4                  0                      0            0           0   \n",
            "\n",
            "   MERC_CORPORATIVO  MERC_EMPRESAS  MERC_GRANDES_CLIENTES  MERC_PYMES  \\\n",
            "0                 0              1                      0           0   \n",
            "1                 0              1                      0           0   \n",
            "2                 0              1                      0           0   \n",
            "3                 0              0                      0           1   \n",
            "4                 0              1                      0           0   \n",
            "\n",
            "   CANT_PRODUCTOS  CANT_ENLACES FACTURACION_ARS  DURACION_CLIENTE_DIAS  \\\n",
            "0               1             1          268800                    574   \n",
            "1               1             1          336000                    670   \n",
            "2               2             2          576000                    780   \n",
            "3               1             1          252000                    166   \n",
            "4               1             1          882000                   1518   \n",
            "\n",
            "   INCIDENTES     TMR  \n",
            "0           1    1,56  \n",
            "1           4    1,45  \n",
            "2           8    6,38  \n",
            "3           0       0  \n",
            "4           3  257,09  \n"
          ]
        }
      ],
      "source": [
        "#Carga de datos\n",
        "df = pd.read_csv(\"Segmentacion_Clientes.csv\", sep=\";\")\n",
        "print(df.head())"
      ]
    },
    {
      "cell_type": "markdown",
      "metadata": {},
      "source": [
        "### Exploracion inicial del dataset"
      ]
    },
    {
      "cell_type": "code",
      "execution_count": 11,
      "metadata": {
        "colab": {
          "base_uri": "https://localhost:8080/"
        },
        "id": "kwXH7TIRgsmj",
        "outputId": "e1a5c152-7b73-4c1b-aa0d-939a352f03ca"
      },
      "outputs": [
        {
          "name": "stdout",
          "output_type": "stream",
          "text": [
            "(3221, 22)\n",
            "       REGION_OTROS    REGION_CF  REGION_BSAS  REGION_DESCONOCIDO  \\\n",
            "count   3221.000000  3221.000000  3221.000000         3221.000000   \n",
            "mean       0.201180     0.401118     0.254269            0.049674   \n",
            "std        0.400944     0.490201     0.435517            0.217304   \n",
            "min        0.000000     0.000000     0.000000            0.000000   \n",
            "25%        0.000000     0.000000     0.000000            0.000000   \n",
            "50%        0.000000     0.000000     0.000000            0.000000   \n",
            "75%        0.000000     1.000000     1.000000            0.000000   \n",
            "max        1.000000     1.000000     1.000000            1.000000   \n",
            "\n",
            "        REGION_CBA  PROD_DATOS_RPV  PROD_INTER_DEDICADO  PROD_DATOS_ENLACE  \\\n",
            "count  3221.000000     3221.000000          3221.000000        3221.000000   \n",
            "mean      0.096243        3.671841             1.881093           0.410742   \n",
            "std       0.294971       68.963696             7.265751           9.264699   \n",
            "min       0.000000        0.000000             0.000000           0.000000   \n",
            "25%       0.000000        0.000000             1.000000           0.000000   \n",
            "50%       0.000000        0.000000             1.000000           0.000000   \n",
            "75%       0.000000        1.000000             2.000000           0.000000   \n",
            "max       1.000000     3389.000000           244.000000         494.000000   \n",
            "\n",
            "       PROD_DATOS_LAN_TO_LAN  PROD_SD_WAN   MERC_OTROS  MERC_CORPORATIVO  \\\n",
            "count            3221.000000  3221.000000  3221.000000       3221.000000   \n",
            "mean                0.360447     0.365725     0.131015          0.260789   \n",
            "std                 6.666047     6.492594     0.337469          0.439133   \n",
            "min                 0.000000     0.000000     0.000000          0.000000   \n",
            "25%                 0.000000     0.000000     0.000000          0.000000   \n",
            "50%                 0.000000     0.000000     0.000000          0.000000   \n",
            "75%                 0.000000     0.000000     0.000000          1.000000   \n",
            "max               352.000000   336.000000     1.000000          1.000000   \n",
            "\n",
            "       MERC_EMPRESAS  MERC_GRANDES_CLIENTES   MERC_PYMES  CANT_PRODUCTOS  \\\n",
            "count    3221.000000            3221.000000  3221.000000     3221.000000   \n",
            "mean        0.276933               0.201490     0.129152        1.354548   \n",
            "std         0.447552               0.401176     0.335421        0.649201   \n",
            "min         0.000000               0.000000     0.000000        1.000000   \n",
            "25%         0.000000               0.000000     0.000000        1.000000   \n",
            "50%         0.000000               0.000000     0.000000        1.000000   \n",
            "75%         1.000000               0.000000     0.000000        2.000000   \n",
            "max         1.000000               1.000000     1.000000        7.000000   \n",
            "\n",
            "       CANT_ENLACES  DURACION_CLIENTE_DIAS    INCIDENTES  \n",
            "count   3221.000000            3221.000000   3221.000000  \n",
            "mean       6.689848            1921.307979    101.625582  \n",
            "std       74.557459            1858.348594    771.288478  \n",
            "min        0.000000               0.000000      0.000000  \n",
            "25%        1.000000             544.000000      2.000000  \n",
            "50%        1.000000            1312.000000      9.000000  \n",
            "75%        2.000000            2740.000000     31.000000  \n",
            "max     3390.000000            8852.000000  24048.000000  \n"
          ]
        }
      ],
      "source": [
        "#Vemos el tamaño del dataset y los descriptivos\n",
        "print(df.shape)\n",
        "print(df.describe())"
      ]
    },
    {
      "cell_type": "code",
      "execution_count": 12,
      "metadata": {
        "colab": {
          "base_uri": "https://localhost:8080/",
          "height": 585
        },
        "id": "B9yX1vwOhDlD",
        "outputId": "8bf966ca-1f68-4ccd-acf1-ffca7c12173a"
      },
      "outputs": [
        {
          "data": {
            "text/html": [
              "<div>\n",
              "<style scoped>\n",
              "    .dataframe tbody tr th:only-of-type {\n",
              "        vertical-align: middle;\n",
              "    }\n",
              "\n",
              "    .dataframe tbody tr th {\n",
              "        vertical-align: top;\n",
              "    }\n",
              "\n",
              "    .dataframe thead th {\n",
              "        text-align: right;\n",
              "    }\n",
              "</style>\n",
              "<table border=\"1\" class=\"dataframe\">\n",
              "  <thead>\n",
              "    <tr style=\"text-align: right;\">\n",
              "      <th></th>\n",
              "      <th>RAZON_SOCIAL</th>\n",
              "      <th>REGION_OTROS</th>\n",
              "      <th>REGION_CF</th>\n",
              "      <th>REGION_BSAS</th>\n",
              "      <th>REGION_DESCONOCIDO</th>\n",
              "      <th>REGION_CBA</th>\n",
              "      <th>PROD_DATOS_RPV</th>\n",
              "      <th>PROD_INTER_DEDICADO</th>\n",
              "      <th>PROD_DATOS_ENLACE</th>\n",
              "      <th>PROD_DATOS_LAN_TO_LAN</th>\n",
              "      <th>PROD_SD_WAN</th>\n",
              "      <th>MERC_OTROS</th>\n",
              "      <th>MERC_CORPORATIVO</th>\n",
              "      <th>MERC_EMPRESAS</th>\n",
              "      <th>MERC_GRANDES_CLIENTES</th>\n",
              "      <th>MERC_PYMES</th>\n",
              "      <th>CANT_PRODUCTOS</th>\n",
              "      <th>CANT_ENLACES</th>\n",
              "      <th>FACTURACION_ARS</th>\n",
              "      <th>DURACION_CLIENTE_DIAS</th>\n",
              "      <th>INCIDENTES</th>\n",
              "      <th>TMR</th>\n",
              "    </tr>\n",
              "  </thead>\n",
              "  <tbody>\n",
              "    <tr>\n",
              "      <th>0</th>\n",
              "      <td>AVANZ TRUCK SRL</td>\n",
              "      <td>1</td>\n",
              "      <td>0</td>\n",
              "      <td>0</td>\n",
              "      <td>0</td>\n",
              "      <td>0</td>\n",
              "      <td>0</td>\n",
              "      <td>1</td>\n",
              "      <td>0</td>\n",
              "      <td>0</td>\n",
              "      <td>0</td>\n",
              "      <td>0</td>\n",
              "      <td>0</td>\n",
              "      <td>1</td>\n",
              "      <td>0</td>\n",
              "      <td>0</td>\n",
              "      <td>1</td>\n",
              "      <td>1</td>\n",
              "      <td>268800</td>\n",
              "      <td>574</td>\n",
              "      <td>1</td>\n",
              "      <td>1,56</td>\n",
              "    </tr>\n",
              "    <tr>\n",
              "      <th>1</th>\n",
              "      <td>COOLMEALS S.A.S.</td>\n",
              "      <td>0</td>\n",
              "      <td>0</td>\n",
              "      <td>0</td>\n",
              "      <td>0</td>\n",
              "      <td>1</td>\n",
              "      <td>0</td>\n",
              "      <td>1</td>\n",
              "      <td>0</td>\n",
              "      <td>0</td>\n",
              "      <td>0</td>\n",
              "      <td>0</td>\n",
              "      <td>0</td>\n",
              "      <td>1</td>\n",
              "      <td>0</td>\n",
              "      <td>0</td>\n",
              "      <td>1</td>\n",
              "      <td>1</td>\n",
              "      <td>336000</td>\n",
              "      <td>670</td>\n",
              "      <td>4</td>\n",
              "      <td>1,45</td>\n",
              "    </tr>\n",
              "    <tr>\n",
              "      <th>2</th>\n",
              "      <td>GRUPO QUEST S.A.</td>\n",
              "      <td>0</td>\n",
              "      <td>0</td>\n",
              "      <td>0</td>\n",
              "      <td>0</td>\n",
              "      <td>1</td>\n",
              "      <td>1</td>\n",
              "      <td>1</td>\n",
              "      <td>0</td>\n",
              "      <td>0</td>\n",
              "      <td>0</td>\n",
              "      <td>0</td>\n",
              "      <td>0</td>\n",
              "      <td>1</td>\n",
              "      <td>0</td>\n",
              "      <td>0</td>\n",
              "      <td>2</td>\n",
              "      <td>2</td>\n",
              "      <td>576000</td>\n",
              "      <td>780</td>\n",
              "      <td>8</td>\n",
              "      <td>6,38</td>\n",
              "    </tr>\n",
              "    <tr>\n",
              "      <th>3</th>\n",
              "      <td>3NTROPY TECHNOLOGIES S.R.L.</td>\n",
              "      <td>0</td>\n",
              "      <td>1</td>\n",
              "      <td>0</td>\n",
              "      <td>0</td>\n",
              "      <td>0</td>\n",
              "      <td>0</td>\n",
              "      <td>1</td>\n",
              "      <td>0</td>\n",
              "      <td>0</td>\n",
              "      <td>0</td>\n",
              "      <td>0</td>\n",
              "      <td>0</td>\n",
              "      <td>0</td>\n",
              "      <td>0</td>\n",
              "      <td>1</td>\n",
              "      <td>1</td>\n",
              "      <td>1</td>\n",
              "      <td>252000</td>\n",
              "      <td>166</td>\n",
              "      <td>0</td>\n",
              "      <td>0</td>\n",
              "    </tr>\n",
              "    <tr>\n",
              "      <th>4</th>\n",
              "      <td>48M2 S.A.</td>\n",
              "      <td>0</td>\n",
              "      <td>1</td>\n",
              "      <td>0</td>\n",
              "      <td>0</td>\n",
              "      <td>0</td>\n",
              "      <td>0</td>\n",
              "      <td>1</td>\n",
              "      <td>0</td>\n",
              "      <td>0</td>\n",
              "      <td>0</td>\n",
              "      <td>0</td>\n",
              "      <td>0</td>\n",
              "      <td>1</td>\n",
              "      <td>0</td>\n",
              "      <td>0</td>\n",
              "      <td>1</td>\n",
              "      <td>1</td>\n",
              "      <td>882000</td>\n",
              "      <td>1518</td>\n",
              "      <td>3</td>\n",
              "      <td>257,09</td>\n",
              "    </tr>\n",
              "  </tbody>\n",
              "</table>\n",
              "</div>"
            ],
            "text/plain": [
              "                  RAZON_SOCIAL  REGION_OTROS  REGION_CF  REGION_BSAS  \\\n",
              "0              AVANZ TRUCK SRL             1          0            0   \n",
              "1             COOLMEALS S.A.S.             0          0            0   \n",
              "2             GRUPO QUEST S.A.             0          0            0   \n",
              "3  3NTROPY TECHNOLOGIES S.R.L.             0          1            0   \n",
              "4                    48M2 S.A.             0          1            0   \n",
              "\n",
              "   REGION_DESCONOCIDO  REGION_CBA  PROD_DATOS_RPV  PROD_INTER_DEDICADO  \\\n",
              "0                   0           0               0                    1   \n",
              "1                   0           1               0                    1   \n",
              "2                   0           1               1                    1   \n",
              "3                   0           0               0                    1   \n",
              "4                   0           0               0                    1   \n",
              "\n",
              "   PROD_DATOS_ENLACE  PROD_DATOS_LAN_TO_LAN  PROD_SD_WAN  MERC_OTROS  \\\n",
              "0                  0                      0            0           0   \n",
              "1                  0                      0            0           0   \n",
              "2                  0                      0            0           0   \n",
              "3                  0                      0            0           0   \n",
              "4                  0                      0            0           0   \n",
              "\n",
              "   MERC_CORPORATIVO  MERC_EMPRESAS  MERC_GRANDES_CLIENTES  MERC_PYMES  \\\n",
              "0                 0              1                      0           0   \n",
              "1                 0              1                      0           0   \n",
              "2                 0              1                      0           0   \n",
              "3                 0              0                      0           1   \n",
              "4                 0              1                      0           0   \n",
              "\n",
              "   CANT_PRODUCTOS  CANT_ENLACES FACTURACION_ARS  DURACION_CLIENTE_DIAS  \\\n",
              "0               1             1          268800                    574   \n",
              "1               1             1          336000                    670   \n",
              "2               2             2          576000                    780   \n",
              "3               1             1          252000                    166   \n",
              "4               1             1          882000                   1518   \n",
              "\n",
              "   INCIDENTES     TMR  \n",
              "0           1    1,56  \n",
              "1           4    1,45  \n",
              "2           8    6,38  \n",
              "3           0       0  \n",
              "4           3  257,09  "
            ]
          },
          "execution_count": 12,
          "metadata": {},
          "output_type": "execute_result"
        }
      ],
      "source": [
        "#Vemos el contenido del dataset\n",
        "df.head()"
      ]
    },
    {
      "cell_type": "code",
      "execution_count": 13,
      "metadata": {
        "colab": {
          "base_uri": "https://localhost:8080/"
        },
        "id": "SHR3LQxvhNYK",
        "outputId": "0e6a8876-917d-4a9b-c2d8-6fe4910e8f88"
      },
      "outputs": [
        {
          "name": "stdout",
          "output_type": "stream",
          "text": [
            "<class 'pandas.core.frame.DataFrame'>\n",
            "RangeIndex: 3221 entries, 0 to 3220\n",
            "Data columns (total 22 columns):\n",
            " #   Column                 Non-Null Count  Dtype \n",
            "---  ------                 --------------  ----- \n",
            " 0   RAZON_SOCIAL           3221 non-null   object\n",
            " 1   REGION_OTROS           3221 non-null   int64 \n",
            " 2   REGION_CF              3221 non-null   int64 \n",
            " 3   REGION_BSAS            3221 non-null   int64 \n",
            " 4   REGION_DESCONOCIDO     3221 non-null   int64 \n",
            " 5   REGION_CBA             3221 non-null   int64 \n",
            " 6   PROD_DATOS_RPV         3221 non-null   int64 \n",
            " 7   PROD_INTER_DEDICADO    3221 non-null   int64 \n",
            " 8   PROD_DATOS_ENLACE      3221 non-null   int64 \n",
            " 9   PROD_DATOS_LAN_TO_LAN  3221 non-null   int64 \n",
            " 10  PROD_SD_WAN            3221 non-null   int64 \n",
            " 11  MERC_OTROS             3221 non-null   int64 \n",
            " 12  MERC_CORPORATIVO       3221 non-null   int64 \n",
            " 13  MERC_EMPRESAS          3221 non-null   int64 \n",
            " 14  MERC_GRANDES_CLIENTES  3221 non-null   int64 \n",
            " 15  MERC_PYMES             3221 non-null   int64 \n",
            " 16  CANT_PRODUCTOS         3221 non-null   int64 \n",
            " 17  CANT_ENLACES           3221 non-null   int64 \n",
            " 18  FACTURACION_ARS        3221 non-null   object\n",
            " 19  DURACION_CLIENTE_DIAS  3221 non-null   int64 \n",
            " 20  INCIDENTES             3221 non-null   int64 \n",
            " 21  TMR                    3221 non-null   object\n",
            "dtypes: int64(19), object(3)\n",
            "memory usage: 553.7+ KB\n"
          ]
        }
      ],
      "source": [
        "df.info()"
      ]
    },
    {
      "cell_type": "code",
      "execution_count": 14,
      "metadata": {
        "colab": {
          "base_uri": "https://localhost:8080/"
        },
        "id": "46nE3JV8VqaU",
        "outputId": "28124a45-01fd-488d-d96f-f41af70aa696"
      },
      "outputs": [
        {
          "name": "stdout",
          "output_type": "stream",
          "text": [
            "22 variables\n",
            "Index(['RAZON_SOCIAL', 'REGION_OTROS', 'REGION_CF', 'REGION_BSAS',\n",
            "       'REGION_DESCONOCIDO', 'REGION_CBA', 'PROD_DATOS_RPV',\n",
            "       'PROD_INTER_DEDICADO', 'PROD_DATOS_ENLACE', 'PROD_DATOS_LAN_TO_LAN',\n",
            "       'PROD_SD_WAN', 'MERC_OTROS', 'MERC_CORPORATIVO', 'MERC_EMPRESAS',\n",
            "       'MERC_GRANDES_CLIENTES', 'MERC_PYMES', 'CANT_PRODUCTOS', 'CANT_ENLACES',\n",
            "       'FACTURACION_ARS', 'DURACION_CLIENTE_DIAS', 'INCIDENTES', 'TMR'],\n",
            "      dtype='object')\n"
          ]
        }
      ],
      "source": [
        "#Listamos las variables para ver cuales son interesantes\n",
        "print(len(df.columns), 'variables')\n",
        "print(df.columns)"
      ]
    },
    {
      "cell_type": "code",
      "execution_count": 15,
      "metadata": {
        "colab": {
          "base_uri": "https://localhost:8080/"
        },
        "id": "fb3mHnfdqKy8",
        "outputId": "7158b465-06e1-4290-eb68-7174bfedc695"
      },
      "outputs": [
        {
          "name": "stdout",
          "output_type": "stream",
          "text": [
            "Valores Faltantes por Columna:\n",
            "RAZON_SOCIAL             0\n",
            "REGION_OTROS             0\n",
            "REGION_CF                0\n",
            "REGION_BSAS              0\n",
            "REGION_DESCONOCIDO       0\n",
            "REGION_CBA               0\n",
            "PROD_DATOS_RPV           0\n",
            "PROD_INTER_DEDICADO      0\n",
            "PROD_DATOS_ENLACE        0\n",
            "PROD_DATOS_LAN_TO_LAN    0\n",
            "PROD_SD_WAN              0\n",
            "MERC_OTROS               0\n",
            "MERC_CORPORATIVO         0\n",
            "MERC_EMPRESAS            0\n",
            "MERC_GRANDES_CLIENTES    0\n",
            "MERC_PYMES               0\n",
            "CANT_PRODUCTOS           0\n",
            "CANT_ENLACES             0\n",
            "FACTURACION_ARS          0\n",
            "DURACION_CLIENTE_DIAS    0\n",
            "INCIDENTES               0\n",
            "TMR                      0\n",
            "dtype: int64\n"
          ]
        }
      ],
      "source": [
        "# Verificar la cantidad de datos faltantes en cada columna\n",
        "missing_values = df.isna().sum()\n",
        "print(\"Valores Faltantes por Columna:\")\n",
        "print(missing_values)"
      ]
    },
    {
      "cell_type": "code",
      "execution_count": 16,
      "metadata": {
        "colab": {
          "base_uri": "https://localhost:8080/",
          "height": 1000
        },
        "id": "jVW-3nSvV4vF",
        "outputId": "891377e2-9b1b-4652-eb89-2570c434983b"
      },
      "outputs": [
        {
          "data": {
            "text/plain": [
              "RAZON_SOCIAL             object\n",
              "REGION_OTROS              int64\n",
              "REGION_CF                 int64\n",
              "REGION_BSAS               int64\n",
              "REGION_DESCONOCIDO        int64\n",
              "REGION_CBA                int64\n",
              "PROD_DATOS_RPV            int64\n",
              "PROD_INTER_DEDICADO       int64\n",
              "PROD_DATOS_ENLACE         int64\n",
              "PROD_DATOS_LAN_TO_LAN     int64\n",
              "PROD_SD_WAN               int64\n",
              "MERC_OTROS                int64\n",
              "MERC_CORPORATIVO          int64\n",
              "MERC_EMPRESAS             int64\n",
              "MERC_GRANDES_CLIENTES     int64\n",
              "MERC_PYMES                int64\n",
              "CANT_PRODUCTOS            int64\n",
              "CANT_ENLACES              int64\n",
              "FACTURACION_ARS          object\n",
              "DURACION_CLIENTE_DIAS     int64\n",
              "INCIDENTES                int64\n",
              "TMR                      object\n",
              "dtype: object"
            ]
          },
          "execution_count": 16,
          "metadata": {},
          "output_type": "execute_result"
        }
      ],
      "source": [
        "#Vemos el tipo de cada variable\n",
        "df.dtypes"
      ]
    },
    {
      "cell_type": "markdown",
      "metadata": {},
      "source": [
        "### **Trabajo practico 1**: Analisis y visualizacion de los datos\n",
        "Vamos a hacer un análisis básico de los datos para ver algunas estadísticas descriptivas y posibles correlaciones entre las variables.\n",
        "\n",
        "#### Cuestiones a analizar y responder:\n",
        "\n",
        "1. **Las variables Region, Mercado y Productos son binarias ya que aparece 1 en el tipo que pertenece y 0 caso contrario ¿Te parece que es una buena manera de normalizar el dataset?¿Se te ocurre otra opción?**\n",
        "\n",
        "2. **¿Qué se observa en la distribución de las variables?**\n",
        "\n",
        "3. **¿Los boxplot aportan información?¿Hay valores atípicos de variables?**\n",
        "\n",
        "4. **¿En que región se concentran los clientes?**\n",
        "\n",
        "5. **¿Cuál es el mercado más pujante?**\n",
        "\n",
        "6. **¿Cuál es el producto más demandado?**\n",
        "\n",
        "7. **¿Existe alguna correlación entre la facturación y el tiempo en que son clientes (duracion_cliente_dias)?**\n",
        "\n",
        "8. **¿Que se observa sobre incidentes reportados? ¿Los asociamos a algún producto en especial?¿Y a algún mercado o región?**"
      ]
    },
    {
      "cell_type": "markdown",
      "metadata": {},
      "source": [
        "### Detalle del dataset por feature:\n",
        "- RAZON_SOCIAL: Denominación del Cliente Corporativo\n",
        "- REGION_CF: Si el cliente está ubicado en Capital Federal es un 1, caso contrario 0.\n",
        "- REGION_BSAS: Si el cliente está ubicado en Bs. As es un 1, caso contrario 0.\n",
        "- REGION_CBA: Si el cliente está ubicado en Córdoba es un 1, caso contrario 0.\n",
        "- REGION_DESCONOCIDO: Clientes cuyo campo de Ubicación está vacío. Se arma esta variable para que no haya nulos.\n",
        "- REGION_OTROS: Incluye las localidades que no están en las demas regiones (por ejemplo clientes localizados en Misiones tendrán un 1 en este campo)\n",
        "- PROD_DATOS_RPV: Clientes que tienen contratado el servicio de RPV(Red Privada Virtual). Esta es una solución de telecomunicaciones que permite interconectar distintas sedes de una empresa a través de una red privada y segura, utilizando la infraestructura de un proveedor (como una operadora de telecomunicaciones).\n",
        "- PROD_INTER_DEDICADO: Clientes que tienen contratado el servicio de Internet dedicado.Este consiste en en brindar una conexión exclusiva y simétrica a internet con ancho de banda garantizado para una empresa. \n",
        "- PROD_DATOS_ENLACE: Clientes que tienen contratado el servicio de enlace.Enlace es una conexión punto a punto que une físicamente dos ubicaciones para transmitir datos directamente.\n",
        "- PROD_DATOS_LAN_TO_LAN:Clientes que tienen contratado el servicio de lan to lan. Esto permite interconectar dos o más redes locales (LAN) de distintas sedes mediante enlaces privados y seguros.\n",
        "- PROD_SD_WAN:Clientes que tienen contratado el servicio de SD WAN. Esta es una tecnología que gestiona de forma inteligente múltiples conexiones de red (como MPLS, internet o 4G) para optimizar el rendimiento y la seguridad del tráfico entre sedes.\n",
        "- MERC_CORPORATIVO: Indica con 1 si el cliente es del segmento corporativo y 0 caso contrario.\n",
        "- MERC_EMPRESAS: Indica con 1 si el cliente es del segmento Empresas y 0 caso contrario.\n",
        "- MERC_GRANDES_CLIENTES: Indica con 1 si el cliente es del segmento Grandes Clientes y 0 caso contrario.\n",
        "- MERC_PYMES: Indica con 1 si el cliente es del segmento Pymes y 0 caso contrario.\n",
        "- MERC_OTROS: Indica con 1 si el cliente es de un segmento diferente a los anteriores y 0 caso contrario.\n",
        "- CANT_PRODUCTOS: Contabiliza la cantidad de productos de cada cliente.\n",
        "- CANT_ENLACES: Contabiliza la cantidad de enlaces de cada cliente. Los clientes pueden tener mas de un enlace y más de un producto.\n",
        "- FACTURACION_ARS: Indica lo que paga en pesos el cliente de acuerdo a la cantidad de enlaces\n",
        "- DURACION_CLIENTE_DIAS: Indica la cantidad de días transcurridos desde que el cliente adquirió un producto. \n",
        "- INCIDENTES: Contabiliza la cantidad de reclamos del cliente debido a incidentes en un enlace.\n",
        "- TMR: El Tiempo medio de respuesta indica cuantas horas pasaron desde que se reportó el incidente hasta que se resuelve."
      ]
    },
    {
      "cell_type": "code",
      "execution_count": null,
      "metadata": {},
      "outputs": [],
      "source": [
        "# Seleccionar solo las columnas numéricas\n",
        "numeric_df = df.select_dtypes(include=['float64', 'int64'])\n",
        "\n",
        "# Matriz de correlación:\n",
        "corr = numeric_df.corr()\n",
        "\n",
        "# Graficar el heatmap\n",
        "sns.set(rc={'figure.figsize': (15, 6)})\n",
        "sns.heatmap(corr, cmap=\"Reds\", annot=True, fmt=\".2f\")\n",
        "plt.show()\n",
        "\n",
        "#Agregar los graficos que les resulten utiles para visualizacion"
      ]
    },
    {
      "cell_type": "markdown",
      "metadata": {},
      "source": [
        "### Conclusiones y Observaciones "
      ]
    }
  ],
  "metadata": {
    "colab": {
      "provenance": [],
      "toc_visible": true
    },
    "kernelspec": {
      "display_name": "Python 3",
      "name": "python3"
    },
    "language_info": {
      "codemirror_mode": {
        "name": "ipython",
        "version": 3
      },
      "file_extension": ".py",
      "mimetype": "text/x-python",
      "name": "python",
      "nbconvert_exporter": "python",
      "pygments_lexer": "ipython3",
      "version": "3.12.1"
    }
  },
  "nbformat": 4,
  "nbformat_minor": 0
}
